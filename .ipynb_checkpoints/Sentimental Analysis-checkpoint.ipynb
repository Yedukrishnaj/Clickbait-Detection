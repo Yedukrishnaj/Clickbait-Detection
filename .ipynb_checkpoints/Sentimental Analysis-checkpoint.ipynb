{
 "cells": [
  {
   "cell_type": "code",
   "execution_count": null,
   "id": "065bd5ff",
   "metadata": {},
   "outputs": [],
   "source": [
    "import pandas as pd\n",
    "import numpy as np\n",
    "import seaborn as sns\n",
    "import json\n",
    "from wordcloud import WordCloud, STOPWORDS\n",
    "import matplotlib.pyplot as plt\n",
    "%matplotlib inline\n",
    "from textblob import TextBlob\n"
   ]
  },
  {
   "cell_type": "code",
   "execution_count": null,
   "id": "6c83373b",
   "metadata": {},
   "outputs": [],
   "source": [
    "videos = pd.read_csv('videos.csv',encoding='utf8',error_bad_lines = False);\n",
    "comm = pd.read_csv('comments.csv',encoding='utf8',error_bad_lines=False);"
   ]
  },
  {
   "cell_type": "code",
   "execution_count": null,
   "id": "4a00449f",
   "metadata": {},
   "outputs": [],
   "source": [
    "pol=[] # list which will contain the polarity of the comments\n",
    "for i in comm.comment_text.values:\n",
    "    try:\n",
    "        analysis =TextBlob(i)\n",
    "        pol.append(analysis.sentiment.polarity)\n",
    "        \n",
    "    except:\n",
    "        pol.append(0)"
   ]
  },
  {
   "cell_type": "code",
   "execution_count": null,
   "id": "c35efe70",
   "metadata": {},
   "outputs": [],
   "source": [
    "comm['pol']=pol\n",
    "\n",
    "comm['pol'][comm.pol==0]= 0\n",
    "\n",
    "comm['pol'][comm.pol > 0]= 1\n",
    "comm['pol'][comm.pol < 0]= -1"
   ]
  },
  {
   "cell_type": "code",
   "execution_count": null,
   "id": "f7f1392a",
   "metadata": {},
   "outputs": [],
   "source": [
    "df_positive = comm[comm.pol==1]\n",
    "df_positive.head()"
   ]
  },
  {
   "cell_type": "code",
   "execution_count": null,
   "id": "e01c9d95",
   "metadata": {},
   "outputs": [],
   "source": [
    "k= (' '.join(df_positive['comment_text']))\n",
    "\n",
    "wordcloud = WordCloud(width = 1000, height = 500).generate(k)\n",
    "plt.figure(figsize=(15,5))\n",
    "plt.imshow(wordcloud)\n",
    "plt.axis('off')"
   ]
  },
  {
   "cell_type": "code",
   "execution_count": null,
   "id": "7557c7a4",
   "metadata": {},
   "outputs": [],
   "source": [
    "df_negative = comm[comm.pol==-1]\n",
    "k= (' '.join(df_negative['comment_text']))\n",
    "wordcloud = WordCloud(width = 1000, height = 500).generate(k)\n",
    "plt.figure(figsize=(15,5))\n",
    "\n",
    "plt.axis('off')"
   ]
  },
  {
   "cell_type": "code",
   "execution_count": null,
   "id": "0035d8ef",
   "metadata": {},
   "outputs": [],
   "source": [
    "comm['pol'].replace({1:'positive',0:'Neutral',-1:'negative'}).value_counts().plot(kind='bar',figsize=(7,4));\n",
    "plt.title('Number of types of commets');\n",
    "plt.xlabel('Comment_type');\n",
    "plt.ylabel('number');"
   ]
  },
  {
   "cell_type": "code",
   "execution_count": null,
   "id": "c302e7cd",
   "metadata": {},
   "outputs": [],
   "source": [
    "id=[]\n",
    "pos_comm=[]\n",
    "neg_comm=[]\n",
    "neutral_comm =[]\n",
    "for i in set(comm.video_id):\n",
    "    id.append(i)\n",
    "    try:\n",
    "        pos_comm.append(comm[comm.video_id==i].pol.value_counts()[1])\n",
    "    except:\n",
    "        pos_comm.append(0)\n",
    "    try:    \n",
    "        neg_comm.append(comm[comm.video_id==i].pol.value_counts()[-1])\n",
    "    except:\n",
    "        neg_comm.append(0)\n",
    "    try:    \n",
    "        neutral_comm.append(comm[comm.video_id==i].pol.value_counts()[0])\n",
    "    except:\n",
    "        neutral_comm.append(0)"
   ]
  },
  {
   "cell_type": "code",
   "execution_count": null,
   "id": "77c3b0ed",
   "metadata": {},
   "outputs": [],
   "source": [
    "df_unique = pd.DataFrame(id)\n",
    "df_unique.columns=['id']\n",
    "df_unique['pos_comm'] =pos_comm\n",
    "df_unique['neg_comm'] = neg_comm\n",
    "df_unique['neutral_comm'] = neutral_comm\n",
    "df_unique['total_comments']=df_unique['pos_comm']+df_unique['neg_comm']+df_unique['neutral_comm']\n",
    "df_unique.head(6)"
   ]
  },
  {
   "cell_type": "code",
   "execution_count": null,
   "id": "5b1907b3",
   "metadata": {},
   "outputs": [],
   "source": [
    "df_unique.to_csv('unique.csv',index=False,)"
   ]
  },
  {
   "cell_type": "code",
   "execution_count": null,
   "id": "8ef75b08",
   "metadata": {},
   "outputs": [],
   "source": [
    "videos.head()"
   ]
  },
  {
   "cell_type": "code",
   "execution_count": null,
   "id": "7f8a362e",
   "metadata": {},
   "outputs": [],
   "source": []
  }
 ],
 "metadata": {
  "kernelspec": {
   "display_name": "Python 3",
   "language": "python",
   "name": "python3"
  },
  "language_info": {
   "codemirror_mode": {
    "name": "ipython",
    "version": 3
   },
   "file_extension": ".py",
   "mimetype": "text/x-python",
   "name": "python",
   "nbconvert_exporter": "python",
   "pygments_lexer": "ipython3",
   "version": "3.8.8"
  }
 },
 "nbformat": 4,
 "nbformat_minor": 5
}
